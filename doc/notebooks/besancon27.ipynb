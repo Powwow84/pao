{
 "cells": [
  {
   "cell_type": "markdown",
   "metadata": {
    "colab_type": "text",
    "id": "view-in-github"
   },
   "source": [
    "<a href=\"https://colab.research.google.com/github/whart222/pao/blob/master/doc/besancon27.ipynb\" target=\"_parent\"><img src=\"https://colab.research.google.com/assets/colab-badge.svg\" alt=\"Open In Colab\"/></a>"
   ]
  },
  {
   "cell_type": "markdown",
   "metadata": {
    "id": "_REzorGTPZhe"
   },
   "source": [
    "# **A PAO Example: Solving Besancon27**"
   ]
  },
  {
   "cell_type": "markdown",
   "metadata": {},
   "source": [
    "NOTE: This notebook assumes that PAO and related solvers are installed in the python environment that is used to launch jupyter."
   ]
  },
  {
   "cell_type": "markdown",
   "metadata": {
    "id": "u-Hjuyp8QGrt"
   },
   "source": [
    "## Creating and Solving a PAO Model using Pyomo"
   ]
  },
  {
   "cell_type": "code",
   "execution_count": 2,
   "metadata": {
    "hide_input": false,
    "id": "PegsJtqnIZft"
   },
   "outputs": [],
   "source": [
    "import pyomo.environ as pe\n",
    "from pao.pyomo import *"
   ]
  },
  {
   "cell_type": "markdown",
   "metadata": {},
   "source": [
    "Example 2.7 from\n",
    "\n",
    "    Near-Optimal Robust Bilevel Optimization\n",
    "    M. Besancon, M. F. Anjos and L. Brotcorne\n",
    "    arXiv:1908.04040v5 (2019)\n",
    "\n",
    "Optimal solution: (x,v) = (0,1)"
   ]
  },
  {
   "cell_type": "code",
   "execution_count": 3,
   "metadata": {
    "hide_input": false,
    "id": "vm0wJFa5ImyD"
   },
   "outputs": [],
   "source": [
    "M = pe.ConcreteModel()\n",
    "\n",
    "M.x = pe.Var(bounds=(0.5,None),initialize=1)  # Lower bound set to 0.5\n",
    "M.v = pe.Var(initialize=1)\n",
    "\n",
    "M.o = pe.Objective(expr=M.x, sense=pe.minimize)\n",
    "M.c = pe.Constraint(expr= M.v >= 1 - M.x/10)\n",
    "\n",
    "M.L = SubModel(fixed=M.x)\n",
    "M.L.o = pe.Objective(expr=M.v, sense=pe.maximize)\n",
    "M.L.c = pe.Constraint(expr= 1 + M.x/10 >= M.v)"
   ]
  },
  {
   "cell_type": "markdown",
   "metadata": {},
   "source": [
    "Show available solvers"
   ]
  },
  {
   "cell_type": "code",
   "execution_count": 4,
   "metadata": {
    "colab": {
     "base_uri": "https://localhost:8080/"
    },
    "id": "R6yiphp_KUn_",
    "outputId": "3df6ea03-2056-4f6c-f6df-2e0eeaf70e27",
    "scrolled": false
   },
   "outputs": [
    {
     "name": "stdout",
     "output_type": "stream",
     "text": [
      "pao.mpr.FA\n",
      "    PAO solver for Multilevel Problem Representations that define linear\n",
      "    bilevel problems.  Solver uses big-M relaxations discussed by Fortuny-\n",
      "    Amat and McCarl (1981).\n",
      "\n",
      "pao.mpr.PCCG\n",
      "    PAO solver for Multilevel Problem Representations that define linear\n",
      "    bilevel problems. Solver uses projected column constraint generation\n",
      "    algorithm described by Yue et al. (2017).\n",
      "\n",
      "pao.mpr.REG\n",
      "    PAO solver for Multilevel Problem Representations that define linear\n",
      "    bilevel problems.  Solver uses regularization discussed by Scheel and\n",
      "    Scholtes (2000) and Ralph and Wright (2004).\n",
      "\n",
      "pao.mpr.interdiction\n",
      "    PAO solver for Multilevel Problem Representations that define linear\n",
      "    interdiction problems, where the upper- and lower-objectives are\n",
      "    opposite.\n",
      "\n",
      "pao.pyomo.FA\n",
      "    PAO solver for Pyomo models that define linear and bilinear bilevel\n",
      "    problems.  Solver uses big-M relaxations discussed by Fortuny-Amat and\n",
      "    McCarl (1981).\n",
      "\n",
      "pao.pyomo.PCCG\n",
      "    PAO solver for Pyomo models that define linear and bilinear bilevel\n",
      "    problems.  Solver uses projected column constraint generation\n",
      "    algorithm described by Yue et al. (2017)\n",
      "\n",
      "pao.pyomo.REG\n",
      "    PAO solver for Pyomo models that define linear and bilinear bilevel\n",
      "    problems.  Solver uses regularization discussed by Scheel and Scholtes\n",
      "    (2000) and Ralph and Wright (2004).\n",
      "\n"
     ]
    }
   ],
   "source": [
    "Solver.summary()"
   ]
  },
  {
   "cell_type": "markdown",
   "metadata": {},
   "source": [
    "Apply solver"
   ]
  },
  {
   "cell_type": "code",
   "execution_count": 5,
   "metadata": {
    "id": "om1X2oB5JX_N"
   },
   "outputs": [],
   "source": [
    "solver = Solver(\"pao.pyomo.FA\")\n",
    "results = solver.solve(M, mip_solver=\"glpk\")\n",
    "# results = solver.solve(M, mip_solver=Solver(\"glpk\", mipgap=0.5), nlp_solver=Solver(\"ipopt\"))\n",
    "# results = solver.solve(M, mip_solver=Solver(\"glpk\"))\n",
    "# results = solver.solve(M, mip_solver=Solver(\"neos.glpk\", mipgap=0.5))"
   ]
  },
  {
   "cell_type": "markdown",
   "metadata": {},
   "source": [
    "The results object contains information about the problem and solver"
   ]
  },
  {
   "cell_type": "code",
   "execution_count": 6,
   "metadata": {
    "hide_input": false,
    "id": "XkQQh_U-Qg5v"
   },
   "outputs": [
    {
     "name": "stdout",
     "output_type": "stream",
     "text": [
      "Problem:\n",
      "- lower_bound: None\n",
      "  name: 'unknown'\n",
      "  number_of_binary_variables: None\n",
      "  number_of_constraints: None\n",
      "  number_of_continuous_variables: None\n",
      "  number_of_integer_variables: None\n",
      "  number_of_objectives: None\n",
      "  number_of_variables: None\n",
      "  sense: None\n",
      "  upper_bound: None\n",
      "Solver:\n",
      "- best_feasible_objective: 0.5\n",
      "  config: <pyomo.common.config.ConfigDict object at 0x7f5c496e2b50>\n",
      "  lmp_solver: 'pao.mpr.FA'\n",
      "  name: 'pao.pyomo.FA'\n",
      "  rc: None\n",
      "  solver_time: None\n",
      "  termination_condition: <TerminationCondition.optimal: 'optimal'>\n",
      "  wallclock_time: 0.30992722511291504\n"
     ]
    }
   ],
   "source": [
    "print(results)"
   ]
  },
  {
   "cell_type": "markdown",
   "metadata": {},
   "source": [
    "The solution is loaded back into the model"
   ]
  },
  {
   "cell_type": "code",
   "execution_count": 7,
   "metadata": {
    "colab": {
     "base_uri": "https://localhost:8080/"
    },
    "id": "CPtUYAe2QlUK",
    "outputId": "7d3c31fc-9132-47e9-e6f8-64a206a0e3d1"
   },
   "outputs": [
    {
     "name": "stdout",
     "output_type": "stream",
     "text": [
      "v 0.94999999999709\n",
      "x 0.5\n"
     ]
    }
   ],
   "source": [
    "print(\"v\", M.v.value)\n",
    "print(\"x\", M.x.value)"
   ]
  },
  {
   "cell_type": "code",
   "execution_count": null,
   "metadata": {},
   "outputs": [],
   "source": []
  }
 ],
 "metadata": {
  "colab": {
   "authorship_tag": "ABX9TyM2Mem+Pbg3eG/Yo8RI1PQU",
   "collapsed_sections": [],
   "include_colab_link": true,
   "name": "besancon27.ipynb",
   "provenance": []
  },
  "kernelspec": {
   "display_name": "Python 3",
   "language": "python",
   "name": "python3"
  },
  "language_info": {
   "codemirror_mode": {
    "name": "ipython",
    "version": 3
   },
   "file_extension": ".py",
   "mimetype": "text/x-python",
   "name": "python",
   "nbconvert_exporter": "python",
   "pygments_lexer": "ipython3",
   "version": "3.7.9"
  }
 },
 "nbformat": 4,
 "nbformat_minor": 1
}
