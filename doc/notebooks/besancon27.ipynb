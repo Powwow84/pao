{
 "cells": [
  {
   "cell_type": "markdown",
   "metadata": {
    "colab_type": "text",
    "id": "view-in-github"
   },
   "source": [
    "<a href=\"https://colab.research.google.com/github/whart222/pao/blob/master/doc/besancon27.ipynb\" target=\"_parent\"><img src=\"https://colab.research.google.com/assets/colab-badge.svg\" alt=\"Open In Colab\"/></a>"
   ]
  },
  {
   "cell_type": "markdown",
   "metadata": {
    "id": "_REzorGTPZhe"
   },
   "source": [
    "# **A PAO Example: Solving Besancon27**"
   ]
  },
  {
   "cell_type": "markdown",
   "metadata": {},
   "source": [
    "NOTE: This notebook assumes that PAO and related solvers are installed in the python environment that is used to launch jupyter."
   ]
  },
  {
   "cell_type": "markdown",
   "metadata": {
    "id": "u-Hjuyp8QGrt"
   },
   "source": [
    "## Creating and Solving a PAO Model using Pyomo"
   ]
  },
  {
   "cell_type": "code",
   "execution_count": 1,
   "metadata": {
    "id": "PegsJtqnIZft"
   },
   "outputs": [],
   "source": [
    "import pyomo.environ as pe\n",
    "from pao.bilevel import *"
   ]
  },
  {
   "cell_type": "code",
   "execution_count": 2,
   "metadata": {
    "id": "vm0wJFa5ImyD"
   },
   "outputs": [],
   "source": [
    "# Example 2.7 from\n",
    "#\n",
    "# Near-Optimal Robust Bilevel Optimization\n",
    "#   M. Besancon, M. F. Anjos and L. Brotcorne\n",
    "#   arXiv:1908.04040v5 (2019)\n",
    "#\n",
    "# Optimal solution: (x,v) = (0,1)\n",
    "\n",
    "M = pe.ConcreteModel()\n",
    "\n",
    "M.x = pe.Var(bounds=(0.5,None),initialize=1)  # Lower bound set to 0.5\n",
    "M.v = pe.Var(initialize=1)\n",
    "\n",
    "M.o = pe.Objective(expr=M.x, sense=pe.minimize)\n",
    "M.c = pe.Constraint(expr= M.v >= 1 - M.x/10)\n",
    "\n",
    "M.L = SubModel(fixed=M.x)\n",
    "M.L.o = pe.Objective(expr=M.v, sense=pe.maximize)\n",
    "M.L.c = pe.Constraint(expr= 1 + M.x/10 >= M.v)"
   ]
  },
  {
   "cell_type": "code",
   "execution_count": 3,
   "metadata": {
    "colab": {
     "base_uri": "https://localhost:8080/"
    },
    "id": "R6yiphp_KUn_",
    "outputId": "3df6ea03-2056-4f6c-f6df-2e0eeaf70e27"
   },
   "outputs": [
    {
     "name": "stdout",
     "output_type": "stream",
     "text": [
      "['pao.lbp.FA', 'pao.lbp.PCCG', 'pao.lbp.REG', 'pao.lbp.interdiction', 'pao.pyomo.FA', 'pao.pyomo.PCCG', 'pao.pyomo.REG']\n"
     ]
    }
   ],
   "source": [
    "# Available Solvers\n",
    "print(list(Solver))"
   ]
  },
  {
   "cell_type": "code",
   "execution_count": 4,
   "metadata": {
    "id": "om1X2oB5JX_N"
   },
   "outputs": [],
   "source": [
    "solver = Solver(\"pao.pyomo.FA\")\n",
    "results = solver.solve(M, solver=\"glpk\")"
   ]
  },
  {
   "cell_type": "code",
   "execution_count": 5,
   "metadata": {
    "id": "XkQQh_U-Qg5v"
   },
   "outputs": [
    {
     "name": "stdout",
     "output_type": "stream",
     "text": [
      "Problem:\n",
      "- lower_bound: 0.5\n",
      "  name: 'unknown'\n",
      "  number_of_binary_variables: None\n",
      "  number_of_constraints: None\n",
      "  number_of_continuous_variables: None\n",
      "  number_of_integer_variables: None\n",
      "  number_of_objectives: None\n",
      "  number_of_variables: None\n",
      "  sense: 'minimize'\n",
      "  upper_bound: 0.5\n",
      "Solver:\n",
      "- best_feasible_objective: 0.5\n",
      "  config: <pyomo.common.config.ConfigDict object at 0x7fba63a99470>\n",
      "  lmp_solver: 'pao.lbp.FA'\n",
      "  name: 'pao.pyomo.FA'\n",
      "  rc: None\n",
      "  solver_time: None\n",
      "  termination_condition: <TerminationCondition.optimal: 'optimal'>\n",
      "  wallclock_time: 0.4276437759399414\n"
     ]
    }
   ],
   "source": [
    "# The results object contains information about the problem and solver\n",
    "print(results)"
   ]
  },
  {
   "cell_type": "code",
   "execution_count": 6,
   "metadata": {
    "colab": {
     "base_uri": "https://localhost:8080/"
    },
    "id": "CPtUYAe2QlUK",
    "outputId": "7d3c31fc-9132-47e9-e6f8-64a206a0e3d1"
   },
   "outputs": [
    {
     "name": "stdout",
     "output_type": "stream",
     "text": [
      "1 Set Declarations\n",
      "    zzz_PAO_SlackVariables_index : Size=1, Index=None, Ordered=Insertion\n",
      "        Key  : Dimen : Domain : Size : Members\n",
      "        None :     1 :    Any :    0 :      {}\n",
      "\n",
      "3 Var Declarations\n",
      "    v : Size=1, Index=None\n",
      "        Key  : Lower : Value            : Upper : Fixed : Stale : Domain\n",
      "        None :  None : 0.94999999999709 :  None : False : False :  Reals\n",
      "    x : Size=1, Index=None\n",
      "        Key  : Lower : Value : Upper : Fixed : Stale : Domain\n",
      "        None :   0.5 :   0.5 :  None : False : False :  Reals\n",
      "    zzz_PAO_SlackVariables : Size=0, Index=zzz_PAO_SlackVariables_index\n",
      "        Key : Lower : Value : Upper : Fixed : Stale : Domain\n",
      "\n",
      "1 Objective Declarations\n",
      "    o : Size=1, Index=None, Active=True\n",
      "        Key  : Active : Sense    : Expression\n",
      "        None :   True : minimize :          x\n",
      "\n",
      "1 Constraint Declarations\n",
      "    c : Size=1, Index=None, Active=True\n",
      "        Key  : Lower : Body          : Upper : Active\n",
      "        None :  -Inf : 1 - 0.1*x - v :   0.0 :   True\n",
      "\n",
      "1 SubModel Declarations\n",
      "    L : Size=1, Index=None, Active=True\n",
      "        1 Set Declarations\n",
      "            zzz_PAO_SlackVariables_index : Size=1, Index=None, Ordered=Insertion\n",
      "                Key  : Dimen : Domain : Size : Members\n",
      "                None :     1 :    Any :    0 :      {}\n",
      "\n",
      "        1 Var Declarations\n",
      "            zzz_PAO_SlackVariables : Size=0, Index=L.zzz_PAO_SlackVariables_index\n",
      "                Key : Lower : Value : Upper : Fixed : Stale : Domain\n",
      "\n",
      "        1 Objective Declarations\n",
      "            o : Size=1, Index=None, Active=True\n",
      "                Key  : Active : Sense    : Expression\n",
      "                None :   True : maximize :          v\n",
      "\n",
      "        1 Constraint Declarations\n",
      "            c : Size=1, Index=None, Active=True\n",
      "                Key  : Lower : Body            : Upper : Active\n",
      "                None :  -Inf : v - (1 + 0.1*x) :   0.0 :   True\n",
      "\n",
      "        4 Declarations: o c zzz_PAO_SlackVariables_index zzz_PAO_SlackVariables\n",
      "\n",
      "7 Declarations: x v o c L zzz_PAO_SlackVariables_index zzz_PAO_SlackVariables\n"
     ]
    }
   ],
   "source": [
    "# The solution is loaded back into the model\n",
    "M.pprint()"
   ]
  },
  {
   "cell_type": "code",
   "execution_count": null,
   "metadata": {},
   "outputs": [],
   "source": []
  }
 ],
 "metadata": {
  "colab": {
   "authorship_tag": "ABX9TyM2Mem+Pbg3eG/Yo8RI1PQU",
   "collapsed_sections": [],
   "include_colab_link": true,
   "name": "besancon27.ipynb",
   "provenance": []
  },
  "kernelspec": {
   "display_name": "Python 3",
   "language": "python",
   "name": "python3"
  },
  "language_info": {
   "codemirror_mode": {
    "name": "ipython",
    "version": 3
   },
   "file_extension": ".py",
   "mimetype": "text/x-python",
   "name": "python",
   "nbconvert_exporter": "python",
   "pygments_lexer": "ipython3",
   "version": "3.7.9"
  }
 },
 "nbformat": 4,
 "nbformat_minor": 1
}
