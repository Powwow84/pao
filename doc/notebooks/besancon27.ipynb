{
  "nbformat": 4,
  "nbformat_minor": 0,
  "metadata": {
    "colab": {
      "name": "besancon27.ipynb",
      "provenance": [],
      "collapsed_sections": [],
      "authorship_tag": "ABX9TyM2Mem+Pbg3eG/Yo8RI1PQU",
      "include_colab_link": true
    },
    "kernelspec": {
      "name": "python3",
      "display_name": "Python 3"
    },
    "language_info": {
      "name": "python"
    }
  },
  "cells": [
    {
      "cell_type": "markdown",
      "metadata": {
        "id": "view-in-github",
        "colab_type": "text"
      },
      "source": [
        "<a href=\"https://colab.research.google.com/github/whart222/pao/blob/master/doc/besancon27.ipynb\" target=\"_parent\"><img src=\"https://colab.research.google.com/assets/colab-badge.svg\" alt=\"Open In Colab\"/></a>"
      ]
    },
    {
      "cell_type": "markdown",
      "metadata": {
        "id": "_REzorGTPZhe"
      },
      "source": [
        "# **A PAO TUTORIAL**"
      ]
    },
    {
      "cell_type": "markdown",
      "metadata": {
        "id": "8owwNGT9PPgg"
      },
      "source": [
        "## Setup and Installation of PAO and GLPK"
      ]
    },
    {
      "cell_type": "code",
      "metadata": {
        "colab": {
          "base_uri": "https://localhost:8080/"
        },
        "id": "e9I9Xb-FOT0r",
        "outputId": "f703d096-9f85-41c2-be1a-4911ecd5ba9e"
      },
      "source": [
        "!pip install condacolab\n",
        "import condacolab\n",
        "condacolab.install()"
      ],
      "execution_count": 1,
      "outputs": [
        {
          "output_type": "stream",
          "text": [
            "Collecting condacolab\n",
            "  Using cached condacolab-0.1.2-py3-none-any.whl (6.0 kB)\n",
            "Installing collected packages: condacolab\n",
            "Successfully installed condacolab-0.1.2\n",
            "✨🍰✨ Everything looks OK!\n"
          ],
          "name": "stdout"
        }
      ]
    },
    {
      "cell_type": "code",
      "metadata": {
        "colab": {
          "base_uri": "https://localhost:8080/"
        },
        "id": "K3CcZFtMOpv5",
        "outputId": "2d40a161-0ba9-4213-97e4-ddbf06248d1c"
      },
      "source": [
        "!conda install glpk ipopt"
      ],
      "execution_count": 18,
      "outputs": [
        {
          "output_type": "stream",
          "text": [
            "Collecting package metadata (current_repodata.json): - \b\b\\ \b\b| \b\b/ \b\b- \b\b\\ \b\b| \b\b/ \b\b- \b\b\\ \b\b| \b\b/ \b\b- \b\b\\ \b\b| \b\b/ \b\bdone\n",
            "Solving environment: \\ \b\b| \b\b/ \b\b- \b\b\\ \b\b| \b\b/ \b\b- \b\b\\ \b\b| \b\b/ \b\b- \b\b\\ \b\b| \b\b/ \b\b- \b\b\\ \b\bdone\n",
            "\n",
            "## Package Plan ##\n",
            "\n",
            "  environment location: /usr/local\n",
            "\n",
            "  added / updated specs:\n",
            "    - glpk\n",
            "    - ipopt\n",
            "\n",
            "\n",
            "The following packages will be downloaded:\n",
            "\n",
            "    package                    |            build\n",
            "    ---------------------------|-----------------\n",
            "    ampl-mp-3.1.0              |    h616b090_1004         1.2 MB  conda-forge\n",
            "    ipopt-3.13.4               |       h7ede334_0         1.1 MB  conda-forge\n",
            "    libblas-3.9.0              |       8_openblas          11 KB  conda-forge\n",
            "    libgfortran-ng-9.3.0       |      hff62375_18          22 KB  conda-forge\n",
            "    libgfortran5-9.3.0         |      hff62375_18         2.0 MB  conda-forge\n",
            "    liblapack-3.9.0            |       8_openblas          11 KB  conda-forge\n",
            "    libopenblas-0.3.12         |pthreads_h4812303_1         8.9 MB  conda-forge\n",
            "    metis-5.1.0                |    h58526e2_1006         4.1 MB  conda-forge\n",
            "    mumps-include-5.2.1        |      ha770c72_10          23 KB  conda-forge\n",
            "    mumps-seq-5.2.1            |      h47a8eb5_10         3.4 MB  conda-forge\n",
            "    scotch-6.0.9               |       h0eec0ba_1         1.4 MB  conda-forge\n",
            "    ------------------------------------------------------------\n",
            "                                           Total:        22.1 MB\n",
            "\n",
            "The following NEW packages will be INSTALLED:\n",
            "\n",
            "  ampl-mp            conda-forge/linux-64::ampl-mp-3.1.0-h616b090_1004\n",
            "  ipopt              conda-forge/linux-64::ipopt-3.13.4-h7ede334_0\n",
            "  libblas            conda-forge/linux-64::libblas-3.9.0-8_openblas\n",
            "  libgfortran-ng     conda-forge/linux-64::libgfortran-ng-9.3.0-hff62375_18\n",
            "  libgfortran5       conda-forge/linux-64::libgfortran5-9.3.0-hff62375_18\n",
            "  liblapack          conda-forge/linux-64::liblapack-3.9.0-8_openblas\n",
            "  libopenblas        conda-forge/linux-64::libopenblas-0.3.12-pthreads_h4812303_1\n",
            "  metis              conda-forge/linux-64::metis-5.1.0-h58526e2_1006\n",
            "  mumps-include      conda-forge/linux-64::mumps-include-5.2.1-ha770c72_10\n",
            "  mumps-seq          conda-forge/linux-64::mumps-seq-5.2.1-h47a8eb5_10\n",
            "  scotch             conda-forge/linux-64::scotch-6.0.9-h0eec0ba_1\n",
            "\n",
            "\n",
            "\n",
            "Downloading and Extracting Packages\n",
            "libgfortran5-9.3.0   | 2.0 MB    | : 100% 1.0/1 [00:00<00:00,  1.32it/s]\n",
            "ampl-mp-3.1.0        | 1.2 MB    | : 100% 1.0/1 [00:00<00:00,  2.02it/s]\n",
            "scotch-6.0.9         | 1.4 MB    | : 100% 1.0/1 [00:00<00:00,  2.47it/s]\n",
            "libblas-3.9.0        | 11 KB     | : 100% 1.0/1 [00:00<00:00, 22.61it/s]\n",
            "liblapack-3.9.0      | 11 KB     | : 100% 1.0/1 [00:00<00:00, 21.55it/s]\n",
            "mumps-seq-5.2.1      | 3.4 MB    | : 100% 1.0/1 [00:00<00:00,  1.18it/s]\n",
            "ipopt-3.13.4         | 1.1 MB    | : 100% 1.0/1 [00:00<00:00,  2.07it/s]\n",
            "metis-5.1.0          | 4.1 MB    | : 100% 1.0/1 [00:01<00:00,  1.18s/it]\n",
            "libgfortran-ng-9.3.0 | 22 KB     | : 100% 1.0/1 [00:00<00:00, 19.50it/s]\n",
            "libopenblas-0.3.12   | 8.9 MB    | : 100% 1.0/1 [00:02<00:00,  2.63s/it]\n",
            "mumps-include-5.2.1  | 23 KB     | : 100% 1.0/1 [00:00<00:00, 16.25it/s]\n",
            "Preparing transaction: / \b\bdone\n",
            "Verifying transaction: \\ \b\bdone\n",
            "Executing transaction: / \b\bdone\n"
          ],
          "name": "stdout"
        }
      ]
    },
    {
      "cell_type": "code",
      "metadata": {
        "colab": {
          "base_uri": "https://localhost:8080/"
        },
        "id": "W-M8gdwNHQqJ",
        "outputId": "45a50ffc-a178-4fd6-98fb-01580a1e0ad6"
      },
      "source": [
        "!git clone https://github.com/or-fusion/pao.git\n",
        "!pip install -e /content/pao"
      ],
      "execution_count": 3,
      "outputs": [
        {
          "output_type": "stream",
          "text": [
            "fatal: destination path 'pao' already exists and is not an empty directory.\n",
            "Obtaining file:///content/pao\n",
            "Requirement already satisfied: Pyomo in /usr/local/lib/python3.7/site-packages (from pao==1.0.dev0) (5.7.3)\n",
            "Requirement already satisfied: parameterized in /usr/local/lib/python3.7/site-packages (from pao==1.0.dev0) (0.8.1)\n",
            "Requirement already satisfied: scipy in /usr/local/lib/python3.7/site-packages (from pao==1.0.dev0) (1.6.1)\n",
            "Requirement already satisfied: munch in /usr/local/lib/python3.7/site-packages (from pao==1.0.dev0) (2.5.0)\n",
            "Requirement already satisfied: six in /usr/local/lib/python3.7/site-packages (from munch->pao==1.0.dev0) (1.15.0)\n",
            "Requirement already satisfied: ply in /usr/local/lib/python3.7/site-packages (from Pyomo->pao==1.0.dev0) (3.11)\n",
            "Requirement already satisfied: PyUtilib>=6.0.0 in /usr/local/lib/python3.7/site-packages (from Pyomo->pao==1.0.dev0) (6.0.0)\n",
            "Requirement already satisfied: nose in /usr/local/lib/python3.7/site-packages (from PyUtilib>=6.0.0->Pyomo->pao==1.0.dev0) (1.3.7)\n",
            "Requirement already satisfied: numpy>=1.16.5 in /usr/local/lib/python3.7/site-packages (from scipy->pao==1.0.dev0) (1.20.1)\n",
            "Installing collected packages: pao\n",
            "  Attempting uninstall: pao\n",
            "    Found existing installation: pao 1.0.dev0\n",
            "    Uninstalling pao-1.0.dev0:\n",
            "      Successfully uninstalled pao-1.0.dev0\n",
            "  Running setup.py develop for pao\n",
            "Successfully installed pao\n"
          ],
          "name": "stdout"
        }
      ]
    },
    {
      "cell_type": "markdown",
      "metadata": {
        "id": "u-Hjuyp8QGrt"
      },
      "source": [
        "## Creating and Solving a PAO Model using Pyomo"
      ]
    },
    {
      "cell_type": "code",
      "metadata": {
        "id": "PegsJtqnIZft"
      },
      "source": [
        "import pyomo.environ as pe\n",
        "from pao.bilevel import *"
      ],
      "execution_count": 4,
      "outputs": []
    },
    {
      "cell_type": "code",
      "metadata": {
        "id": "vm0wJFa5ImyD"
      },
      "source": [
        "# Example 2.7 from\n",
        "#\n",
        "# Near-Optimal Robust Bilevel Optimization\n",
        "#   M. Besancon, M. F. Anjos and L. Brotcorne\n",
        "#   arXiv:1908.04040v5 (2019)\n",
        "#\n",
        "# Optimal solution: (x,v) = (0,1)\n",
        "\n",
        "M = pe.ConcreteModel()\n",
        "\n",
        "M.x = pe.Var(bounds=(0.5,None),initialize=1)\n",
        "M.v = pe.Var(initialize=1)\n",
        "\n",
        "M.o = pe.Objective(expr=M.x, sense=pe.minimize)\n",
        "M.c = pe.Constraint(expr= M.v >= 1 - M.x/10)\n",
        "\n",
        "M.L = SubModel(fixed=M.x)\n",
        "M.L.o = pe.Objective(expr=M.v, sense=pe.maximize)\n",
        "M.L.c = pe.Constraint(expr= 1 + M.x/10 >= M.v)"
      ],
      "execution_count": 21,
      "outputs": []
    },
    {
      "cell_type": "code",
      "metadata": {
        "colab": {
          "base_uri": "https://localhost:8080/"
        },
        "id": "R6yiphp_KUn_",
        "outputId": "3df6ea03-2056-4f6c-f6df-2e0eeaf70e27"
      },
      "source": [
        "# Available Solvers\n",
        "print(list(SolverFactory))"
      ],
      "execution_count": 6,
      "outputs": [
        {
          "output_type": "stream",
          "text": [
            "['pao.lbp.FA', 'pao.lbp.PCCG', 'pao.lbp.REG', 'pao.lbp.interdiction', 'pao.pyomo.FA', 'pao.pyomo.PCCG', 'pao.pyomo.REG']\n"
          ],
          "name": "stdout"
        }
      ]
    },
    {
      "cell_type": "code",
      "metadata": {
        "id": "om1X2oB5JX_N"
      },
      "source": [
        "solver = SolverFactory(\"pao.pyomo.FA\")\n",
        "results = solver.solve(M, solver=\"glpk\")"
      ],
      "execution_count": 25,
      "outputs": []
    },
    {
      "cell_type": "code",
      "metadata": {
        "id": "XkQQh_U-Qg5v"
      },
      "source": [
        "# The results object contains information about the problem and solver\n",
        "# print(results)"
      ],
      "execution_count": 10,
      "outputs": []
    },
    {
      "cell_type": "code",
      "metadata": {
        "colab": {
          "base_uri": "https://localhost:8080/"
        },
        "id": "CPtUYAe2QlUK",
        "outputId": "7d3c31fc-9132-47e9-e6f8-64a206a0e3d1"
      },
      "source": [
        "# The solution is loaded back into the model\n",
        "M.pprint()"
      ],
      "execution_count": 26,
      "outputs": [
        {
          "output_type": "stream",
          "text": [
            "1 Set Declarations\n",
            "    zzz_PAO_SlackVariables_index : Size=1, Index=None, Ordered=Insertion\n",
            "        Key  : Dimen : Domain : Size : Members\n",
            "        None :     1 :    Any :    0 :      {}\n",
            "\n",
            "3 Var Declarations\n",
            "    v : Size=1, Index=None\n",
            "        Key  : Lower : Value            : Upper : Fixed : Stale : Domain\n",
            "        None :  None : 0.94999999999709 :  None : False : False :  Reals\n",
            "    x : Size=1, Index=None\n",
            "        Key  : Lower : Value : Upper : Fixed : Stale : Domain\n",
            "        None :   0.5 :   0.0 :  None : False : False :  Reals\n",
            "    zzz_PAO_SlackVariables : Size=0, Index=zzz_PAO_SlackVariables_index\n",
            "        Key : Lower : Value : Upper : Fixed : Stale : Domain\n",
            "\n",
            "1 Objective Declarations\n",
            "    o : Size=1, Index=None, Active=True\n",
            "        Key  : Active : Sense    : Expression\n",
            "        None :   True : minimize :          x\n",
            "\n",
            "1 Constraint Declarations\n",
            "    c : Size=1, Index=None, Active=True\n",
            "        Key  : Lower : Body          : Upper : Active\n",
            "        None :  -Inf : 1 - 0.1*x - v :   0.0 :   True\n",
            "\n",
            "1 SubModel Declarations\n",
            "    L : Size=1, Index=None, Active=True\n",
            "        1 Set Declarations\n",
            "            zzz_PAO_SlackVariables_index : Size=1, Index=None, Ordered=Insertion\n",
            "                Key  : Dimen : Domain : Size : Members\n",
            "                None :     1 :    Any :    0 :      {}\n",
            "\n",
            "        1 Var Declarations\n",
            "            zzz_PAO_SlackVariables : Size=0, Index=L.zzz_PAO_SlackVariables_index\n",
            "                Key : Lower : Value : Upper : Fixed : Stale : Domain\n",
            "\n",
            "        1 Objective Declarations\n",
            "            o : Size=1, Index=None, Active=True\n",
            "                Key  : Active : Sense    : Expression\n",
            "                None :   True : maximize :          v\n",
            "\n",
            "        1 Constraint Declarations\n",
            "            c : Size=1, Index=None, Active=True\n",
            "                Key  : Lower : Body            : Upper : Active\n",
            "                None :  -Inf : v - (1 + 0.1*x) :   0.0 :   True\n",
            "\n",
            "        4 Declarations: o c zzz_PAO_SlackVariables_index zzz_PAO_SlackVariables\n",
            "\n",
            "7 Declarations: x v o c L zzz_PAO_SlackVariables_index zzz_PAO_SlackVariables\n"
          ],
          "name": "stdout"
        }
      ]
    }
  ]
}